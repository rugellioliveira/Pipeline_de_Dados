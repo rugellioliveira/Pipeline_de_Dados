{
  "nbformat": 4,
  "nbformat_minor": 0,
  "metadata": {
    "colab": {
      "provenance": [],
      "authorship_tag": "ABX9TyOvmBU25XZQT93ouEXl+b8c",
      "include_colab_link": true
    },
    "kernelspec": {
      "name": "python3",
      "display_name": "Python 3"
    },
    "language_info": {
      "name": "python"
    }
  },
  "cells": [
    {
      "cell_type": "markdown",
      "metadata": {
        "id": "view-in-github",
        "colab_type": "text"
      },
      "source": [
        "<a href=\"https://colab.research.google.com/github/rugellioliveira/Pipeline_de_Dados/blob/main/PipelineDeDados.ipynb\" target=\"_parent\"><img src=\"https://colab.research.google.com/assets/colab-badge.svg\" alt=\"Open In Colab\"/></a>"
      ]
    },
    {
      "cell_type": "markdown",
      "source": [
        "**Criação do Pipeline de Dados:**"
      ],
      "metadata": {
        "id": "FeRM43weavnK"
      }
    },
    {
      "cell_type": "code",
      "execution_count": 2,
      "metadata": {
        "id": "cIgkVXmnr3UM",
        "colab": {
          "base_uri": "https://localhost:8080/"
        },
        "outputId": "84106d63-aa49-4074-95d8-b635f9f1c57f"
      },
      "outputs": [
        {
          "output_type": "stream",
          "name": "stdout",
          "text": [
            "Concluído com Sucesso!\n"
          ]
        }
      ],
      "source": [
        "# Criação de Pipeline de Extração, Limpeza, Transformação e Enriquecimento de Dados\n",
        "\n",
        "# Imports\n",
        "import csv\n",
        "import sqlite3\n",
        "\n",
        "# Função para remover o ponto da última coluna\n",
        "def remove_ponto(valor):\n",
        "    return int(round(float(valor.replace('.', '')), 0))\n",
        "\n",
        "# Caminho do arquivo CSV\n",
        "arquivo_csv = 'producao_alimentos.csv'\n",
        "\n",
        "# Abre o arquivo CSV com os dados da produção de alimentos\n",
        "with open(arquivo_csv, 'r', newline='', encoding='utf-8') as file:\n",
        "\n",
        "    # Cria um leitor de CSV para ler o arquivo\n",
        "    reader = csv.reader(file)\n",
        "\n",
        "    # Pula a primeira linha, que contém os cabeçalhos das colunas\n",
        "    next(reader)\n",
        "\n",
        "    # Conecta ao banco de dados\n",
        "    conn = sqlite3.connect('testedb.db')\n",
        "\n",
        "    # Deleta a tabela existente, se houver\n",
        "    conn.execute('DROP TABLE IF EXISTS producao')\n",
        "\n",
        "    # Cria uma nova tabela para armazenar os dados de produção de alimentos com a nova coluna 'margem_lucro'\n",
        "    conn.execute('''CREATE TABLE producao (\n",
        "                    produto TEXT,\n",
        "                    quantidade INTEGER,\n",
        "                    preco_medio REAL,\n",
        "                    receita_total INTEGER,\n",
        "                    margem_lucro REAL\n",
        "                )''')\n",
        "\n",
        "    # Insere cada linha do arquivo com quantidade maior que 10 na tabela do banco de dados\n",
        "    for row in reader:\n",
        "        if int(row[1]) > 10:\n",
        "\n",
        "            # Remove o ponto do valor da última coluna e converte para inteiro\n",
        "            row[3] = remove_ponto(row[3])\n",
        "\n",
        "            # Calcula a margem de lucro bruta com base no valor médio de venda e na receita total e arredonda para duas casas decimais\n",
        "            margem_lucro = round((row[3] / float(row[1])) - float(row[2]), 2)\n",
        "\n",
        "            # Insere a linha com a nova coluna 'margem_lucro' na tabela do banco de dados\n",
        "            conn.execute('INSERT INTO producao (produto, quantidade, preco_medio, receita_total, margem_lucro) VALUES (?, ?, ?, ?, ?)', (row[0], row[1], row[2], row[3], margem_lucro))\n",
        "\n",
        "    conn.commit()\n",
        "    conn.close()\n",
        "\n",
        "print(\"Concluído com Sucesso!\")"
      ]
    },
    {
      "cell_type": "markdown",
      "source": [
        "**Resultado final:**"
      ],
      "metadata": {
        "id": "zUCbWubQbAQ5"
      }
    },
    {
      "cell_type": "code",
      "source": [
        "# Conecta ao banco de dados\n",
        "conn = sqlite3.connect('testedb.db')\n",
        "\n",
        "# Cria um cursor para executar a consulta\n",
        "cursor = conn.cursor()\n",
        "\n",
        "# Executa a consulta para selecionar todos os dados da tabela 'producao'\n",
        "cursor.execute('SELECT * FROM producao')\n",
        "\n",
        "# Recupera todos os resultados\n",
        "dados = cursor.fetchall()\n",
        "\n",
        "# Exibe os resultados\n",
        "for linha in dados:\n",
        "    print(linha)\n",
        "\n",
        "# Fecha a conexão com o banco de dados\n",
        "conn.close()\n"
      ],
      "metadata": {
        "colab": {
          "base_uri": "https://localhost:8080/"
        },
        "id": "4NZH-9h_aWgb",
        "outputId": "b8bc3901-7636-4313-c410-55cbcca73b4a"
      },
      "execution_count": 4,
      "outputs": [
        {
          "output_type": "stream",
          "name": "stdout",
          "text": [
            "('milho', 18, 21.0, 16500, 895.67)\n",
            "('batata', 13, 14.0, 12800, 970.62)\n",
            "('tomate', 12, 15.0, 10780, 883.33)\n",
            "('alface', 14, 13.0, 4600, 315.57)\n",
            "('cenoura', 21, 14.0, 4100, 181.24)\n",
            "('abobrinha', 28, 16.0, 4800, 155.43)\n",
            "('soja', 80, 17.0, 8400, 88.0)\n",
            "('trigo', 150, 11.0, 9750, 54.0)\n",
            "('abacaxi', 30, 10.0, 3000, 90.0)\n",
            "('morango', 20, 15.0, 8000, 385.0)\n",
            "('melancia', 12, 12.0, 7000, 571.33)\n"
          ]
        }
      ]
    }
  ]
}